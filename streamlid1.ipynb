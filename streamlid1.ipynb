{
 "cells": [
  {
   "cell_type": "code",
   "execution_count": 1,
   "metadata": {},
   "outputs": [
    {
     "name": "stderr",
     "output_type": "stream",
     "text": [
      "2024-11-11 16:24:24.873 \n",
      "  \u001b[33m\u001b[1mWarning:\u001b[0m to view this Streamlit app on a browser, run it with the following\n",
      "  command:\n",
      "\n",
      "    streamlit run /opt/anaconda3/lib/python3.12/site-packages/ipykernel_launcher.py [ARGUMENTS]\n"
     ]
    }
   ],
   "source": [
    "# Save this as `lottery_app.py`\n",
    "\n",
    "import streamlit as st\n",
    "import pandas as pd\n",
    "\n",
    "# Core functions\n",
    "def factorial(n):\n",
    "    final_product = 1\n",
    "    for i in range(n, 0, -1):\n",
    "        final_product *= i\n",
    "    return final_product\n",
    "\n",
    "def combinations(n, k):\n",
    "    numerator = factorial(n)\n",
    "    denominator = factorial(k) * factorial(n - k)\n",
    "    return numerator / denominator\n",
    "\n",
    "# Streamlit app\n",
    "st.title(\"Lottery Probability Calculator\")\n",
    "\n",
    "# Upload CSV file\n",
    "uploaded_file = st.file_uploader(\"Upload a CSV file containing lottery data\", type=\"csv\")\n",
    "\n",
    "if uploaded_file is not None:\n",
    "    # Load and display the CSV file\n",
    "    lottery_data = pd.read_csv(uploaded_file)\n",
    "    st.write(\"Dataset preview:\")\n",
    "    st.write(lottery_data.head())\n",
    "\n",
    "    # Example of calculating combinations for user input\n",
    "    st.header(\"Calculate Your Lottery Odds\")\n",
    "    total_numbers = st.number_input(\"Total number of possible lottery numbers\", min_value=1, step=1)\n",
    "    chosen_numbers = st.number_input(\"Number of chosen numbers\", min_value=1, step=1)\n",
    "\n",
    "    if st.button(\"Calculate Odds\"):\n",
    "        if chosen_numbers <= total_numbers:\n",
    "            odds = combinations(total_numbers, chosen_numbers)\n",
    "            st.write(f\"The odds of winning are 1 in {odds:.0f}\")\n",
    "        else:\n",
    "            st.write(\"Chosen numbers must be less than or equal to total numbers.\")\n",
    "else:\n",
    "    st.write(\"Please upload a CSV file to proceed.\")"
   ]
  }
 ],
 "metadata": {
  "kernelspec": {
   "display_name": "base",
   "language": "python",
   "name": "python3"
  },
  "language_info": {
   "codemirror_mode": {
    "name": "ipython",
    "version": 3
   },
   "file_extension": ".py",
   "mimetype": "text/x-python",
   "name": "python",
   "nbconvert_exporter": "python",
   "pygments_lexer": "ipython3",
   "version": "3.12.4"
  }
 },
 "nbformat": 4,
 "nbformat_minor": 2
}
